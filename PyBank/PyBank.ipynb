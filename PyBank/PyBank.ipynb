{
 "cells": [
  {
   "cell_type": "code",
   "execution_count": 12,
   "id": "8552551c",
   "metadata": {},
   "outputs": [],
   "source": [
    "from dataclasses import dataclass \n",
    "import csv\n",
    "\n",
    "@dataclass\n",
    "class EvaluationWindow:\n",
    "    month: str\n",
    "    profit: int\n",
    "\n",
    "data = open(\"./Resources/budget_data.csv\")\n",
    "data = list(csv.reader(data))\n",
    "# print(data)\n",
    "\n",
    "\n",
    "\n",
    "months = []\n",
    "\n",
    "for x in data[1:]: \n",
    "    months.append(EvaluationWindow(x[0],int(x[1])))\n",
    "    # print(x)"
   ]
  },
  {
   "cell_type": "code",
   "execution_count": 9,
   "id": "8692daa4",
   "metadata": {},
   "outputs": [
    {
     "name": "stdout",
     "output_type": "stream",
     "text": [
      "86\n"
     ]
    }
   ],
   "source": [
    "totalmonths = len(months)\n",
    "print(totalmonths)"
   ]
  },
  {
   "cell_type": "code",
   "execution_count": 10,
   "id": "3a8ec14c",
   "metadata": {},
   "outputs": [
    {
     "name": "stdout",
     "output_type": "stream",
     "text": [
      "22564198\n"
     ]
    }
   ],
   "source": [
    "total = 0\n",
    "for month in months :\n",
    "    total = total + month.profit\n",
    "print (total)"
   ]
  },
  {
   "cell_type": "code",
   "execution_count": 13,
   "id": "d17589a9",
   "metadata": {},
   "outputs": [
    {
     "name": "stdout",
     "output_type": "stream",
     "text": [
      "262374.3953488372\n"
     ]
    }
   ],
   "source": [
    "averagechange = total/totalmonths\n",
    "print (averagechange)"
   ]
  },
  {
   "cell_type": "code",
   "execution_count": 15,
   "id": "fe5e9996",
   "metadata": {},
   "outputs": [
    {
     "name": "stdout",
     "output_type": "stream",
     "text": [
      "EvaluationWindow(month='Mar-13', profit=1141840)\n"
     ]
    }
   ],
   "source": [
    "Max = max(months, key = lambda x : x.profit)\n",
    "print(Max)"
   ]
  },
  {
   "cell_type": "code",
   "execution_count": 16,
   "id": "81e2a792",
   "metadata": {},
   "outputs": [
    {
     "name": "stdout",
     "output_type": "stream",
     "text": [
      "EvaluationWindow(month='Dec-10', profit=-1194133)\n"
     ]
    }
   ],
   "source": [
    "Min = min(months, key = lambda x : x.profit)\n",
    "print(Min)"
   ]
  }
 ],
 "metadata": {
  "kernelspec": {
   "display_name": "Python 3 (ipykernel)",
   "language": "python",
   "name": "python3"
  },
  "language_info": {
   "codemirror_mode": {
    "name": "ipython",
    "version": 3
   },
   "file_extension": ".py",
   "mimetype": "text/x-python",
   "name": "python",
   "nbconvert_exporter": "python",
   "pygments_lexer": "ipython3",
   "version": "3.11.4"
  }
 },
 "nbformat": 4,
 "nbformat_minor": 5
}
