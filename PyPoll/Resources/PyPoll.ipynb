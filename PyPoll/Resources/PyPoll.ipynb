{
 "cells": [
  {
   "cell_type": "code",
   "execution_count": 10,
   "id": "0a5453d2",
   "metadata": {},
   "outputs": [
    {
     "name": "stdout",
     "output_type": "stream",
     "text": [
      "[Ballot(id='1323913', county='Jefferson', candidate='Charles Casper Stockham'), Ballot(id='1005842', county='Jefferson', candidate='Charles Casper Stockham'), Ballot(id='1880345', county='Jefferson', candidate='Charles Casper Stockham'), Ballot(id='1600337', county='Jefferson', candidate='Charles Casper Stockham'), Ballot(id='1835994', county='Jefferson', candidate='Charles Casper Stockham'), Ballot(id='1772756', county='Jefferson', candidate='Charles Casper Stockham'), Ballot(id='1920023', county='Jefferson', candidate='Charles Casper Stockham'), Ballot(id='1040408', county='Jefferson', candidate='Charles Casper Stockham'), Ballot(id='1018414', county='Jefferson', candidate='Charles Casper Stockham'), Ballot(id='1361118', county='Jefferson', candidate='Charles Casper Stockham')]\n"
     ]
    }
   ],
   "source": [
    "from dataclasses import dataclass \n",
    "import csv\n",
    "\n",
    "@dataclass\n",
    "class Ballot:\n",
    "    id: str\n",
    "    county: str\n",
    "    candidate: str\n",
    "\n",
    "data = open(\"./election_data.csv\")\n",
    "data = list(csv.reader(data))\n",
    "# print(data)\n",
    "\n",
    "\n",
    "\n",
    "ballots = []\n",
    "\n",
    "for x in data[1:]: \n",
    "    ballots.append(Ballot( x[0], x[1], x[2] ))\n",
    "\n",
    "print(ballots[0:10])"
   ]
  },
  {
   "cell_type": "code",
   "execution_count": 7,
   "id": "82dce679",
   "metadata": {},
   "outputs": [
    {
     "name": "stdout",
     "output_type": "stream",
     "text": [
      "369711\n"
     ]
    }
   ],
   "source": [
    "totalvotes = len(ballots)\n",
    "print(totalvotes)"
   ]
  },
  {
   "cell_type": "code",
   "execution_count": 16,
   "id": "8dafade6",
   "metadata": {},
   "outputs": [
    {
     "name": "stdout",
     "output_type": "stream",
     "text": [
      "{'Charles Casper Stockham': 85213, 'Diana DeGette': 272892, 'Raymon Anthony Doane': 11606}\n",
      "Charles Casper Stockham 23.04854332167558 85213\n",
      "Diana DeGette 73.81224794501652 272892\n",
      "Raymon Anthony Doane 3.1392087333079077 11606\n"
     ]
    }
   ],
   "source": [
    "votes_per_candidate = {}\n",
    "\n",
    "\n",
    "for ballot in ballots:\n",
    "        if ballot.candidate in votes_per_candidate:\n",
    "            votes_per_candidate[ballot.candidate]= votes_per_candidate[ballot.candidate] +1\n",
    "        else:\n",
    "            votes_per_candidate[ballot.candidate] = 1\n",
    "print(votes_per_candidate)\n",
    "\n",
    "\n",
    "for candidate,votes in votes_per_candidate.items() :\n",
    "\n",
    "    print(candidate, 100*(votes/totalvotes), votes)\n",
    "    "
   ]
  },
  {
   "cell_type": "code",
   "execution_count": 19,
   "id": "3d2877e5",
   "metadata": {},
   "outputs": [
    {
     "name": "stdout",
     "output_type": "stream",
     "text": [
      "Winner: Diana DeGette\n"
     ]
    }
   ],
   "source": [
    "winner = max(votes_per_candidate, key = lambda x : votes_per_candidate[x])\n",
    "print(f\"Winner: {winner}\")"
   ]
  },
  {
   "cell_type": "code",
   "execution_count": null,
   "id": "5eb66008",
   "metadata": {},
   "outputs": [],
   "source": []
  }
 ],
 "metadata": {
  "kernelspec": {
   "display_name": "Python 3 (ipykernel)",
   "language": "python",
   "name": "python3"
  },
  "language_info": {
   "codemirror_mode": {
    "name": "ipython",
    "version": 3
   },
   "file_extension": ".py",
   "mimetype": "text/x-python",
   "name": "python",
   "nbconvert_exporter": "python",
   "pygments_lexer": "ipython3",
   "version": "3.11.4"
  }
 },
 "nbformat": 4,
 "nbformat_minor": 5
}
